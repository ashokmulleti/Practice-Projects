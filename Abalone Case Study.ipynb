{
 "cells": [
  {
   "cell_type": "markdown",
   "id": "db8ab1bf",
   "metadata": {},
   "source": [
    "# Abalone Case Study"
   ]
  },
  {
   "cell_type": "markdown",
   "id": "fbf8d3e8",
   "metadata": {},
   "source": [
    "### Importing Required Libraries"
   ]
  },
  {
   "cell_type": "code",
   "execution_count": null,
   "id": "dbe51f88",
   "metadata": {},
   "outputs": [],
   "source": [
    "import numpy as np\n",
    "import pandas as pd\n",
    "import seaborn as sns\n",
    "import matplotlib.pyplot as plt\n",
    "from sklearn.linear_model import LogisticRegression\n",
    "from scipy.stats import zscore\n",
    "\n",
    "import warnings\n",
    "warnings.filterwarnings('ignore')"
   ]
  },
  {
   "cell_type": "code",
   "execution_count": null,
   "id": "827427d0",
   "metadata": {},
   "outputs": [],
   "source": [
    "df = pd.read_csv(\"abalone.csv\")\n",
    "df"
   ]
  },
  {
   "cell_type": "code",
   "execution_count": null,
   "id": "ee5cc702",
   "metadata": {},
   "outputs": [],
   "source": [
    "df.head()"
   ]
  },
  {
   "cell_type": "code",
   "execution_count": null,
   "id": "e6571e36",
   "metadata": {},
   "outputs": [],
   "source": [
    "df.shape"
   ]
  },
  {
   "cell_type": "markdown",
   "id": "1a697c14",
   "metadata": {},
   "source": [
    "There are 4177 rows and 9 columns in this dataset"
   ]
  },
  {
   "cell_type": "code",
   "execution_count": null,
   "id": "b6b7453c",
   "metadata": {},
   "outputs": [],
   "source": [
    "df.columns"
   ]
  },
  {
   "cell_type": "code",
   "execution_count": null,
   "id": "45f85ecc",
   "metadata": {},
   "outputs": [],
   "source": [
    "df.dtypes"
   ]
  },
  {
   "cell_type": "code",
   "execution_count": null,
   "id": "a694be99",
   "metadata": {},
   "outputs": [],
   "source": [
    "#checking the datatypes\n",
    "df.info()  "
   ]
  },
  {
   "cell_type": "markdown",
   "id": "d59e7371",
   "metadata": {},
   "source": [
    "All the data types are float datatypes except 'sex' and 'Rings' and there are no null values present in the data"
   ]
  },
  {
   "cell_type": "markdown",
   "id": "810bf70e",
   "metadata": {},
   "source": [
    "# Exploratory Data Analysis"
   ]
  },
  {
   "cell_type": "code",
   "execution_count": null,
   "id": "df690161",
   "metadata": {},
   "outputs": [],
   "source": [
    "df.isnull().sum()"
   ]
  },
  {
   "cell_type": "markdown",
   "id": "3645fb13",
   "metadata": {},
   "source": [
    "There are no null data present"
   ]
  },
  {
   "cell_type": "markdown",
   "id": "19f20484",
   "metadata": {},
   "source": [
    "## Data Preprocessing"
   ]
  },
  {
   "cell_type": "code",
   "execution_count": null,
   "id": "45f91ca3",
   "metadata": {},
   "outputs": [],
   "source": [
    "df.describe()"
   ]
  },
  {
   "cell_type": "markdown",
   "id": "e727db08",
   "metadata": {},
   "source": [
    "The Minimum height is zero. so lets check height feature"
   ]
  },
  {
   "cell_type": "code",
   "execution_count": null,
   "id": "2753acb4",
   "metadata": {},
   "outputs": [],
   "source": [
    "df['Height'].describe()"
   ]
  },
  {
   "cell_type": "code",
   "execution_count": null,
   "id": "28ccce6e",
   "metadata": {},
   "outputs": [],
   "source": [
    "df[df.Height==0]"
   ]
  },
  {
   "cell_type": "markdown",
   "id": "ed5c3a07",
   "metadata": {},
   "source": [
    "Here the zero height is infant's sex. so we change the value of 0 to null. and lets fill the average height with the null value"
   ]
  },
  {
   "cell_type": "code",
   "execution_count": null,
   "id": "f32d03eb",
   "metadata": {},
   "outputs": [],
   "source": [
    "means=pd.pivot_table(df,index=['Sex'],aggfunc={'Height':np.mean})\n",
    "means"
   ]
  },
  {
   "cell_type": "markdown",
   "id": "39336278",
   "metadata": {},
   "source": [
    "Mean value of infant sex values is 0.107996.So we will fill in the missing value with 0.107996"
   ]
  },
  {
   "cell_type": "code",
   "execution_count": null,
   "id": "a5932777",
   "metadata": {},
   "outputs": [],
   "source": [
    "df['Height']=df['Height'].replace(to_replace=0,value=0.107996)"
   ]
  },
  {
   "cell_type": "code",
   "execution_count": null,
   "id": "0856dcac",
   "metadata": {},
   "outputs": [],
   "source": [
    "#Checking the height minimum values again\n",
    "df['Height'].describe()"
   ]
  },
  {
   "cell_type": "code",
   "execution_count": null,
   "id": "eff22e8f",
   "metadata": {},
   "outputs": [],
   "source": [
    "# Since'Sex' Are of categorical dtype. So we are applying Label Encoder\n",
    "from sklearn.preprocessing import OrdinalEncoder,LabelEncoder\n",
    "lencode=LabelEncoder()\n",
    "df['Sex']=lencode.fit_transform(df['Sex'])\n",
    "df"
   ]
  },
  {
   "cell_type": "code",
   "execution_count": null,
   "id": "ab35206a",
   "metadata": {},
   "outputs": [],
   "source": [
    "df.dtypes"
   ]
  },
  {
   "cell_type": "markdown",
   "id": "2e84ebf1",
   "metadata": {},
   "source": [
    "now all the columns turned to int type"
   ]
  },
  {
   "cell_type": "code",
   "execution_count": null,
   "id": "98ad6fba",
   "metadata": {},
   "outputs": [],
   "source": [
    "df.describe()"
   ]
  },
  {
   "cell_type": "markdown",
   "id": "2f285011",
   "metadata": {},
   "source": [
    "## Univariate Analysis"
   ]
  },
  {
   "cell_type": "code",
   "execution_count": null,
   "id": "4f8534e1",
   "metadata": {},
   "outputs": [],
   "source": [
    "# Target feature distribution \n",
    "sns.distplot(df[\"Rings\"])"
   ]
  },
  {
   "cell_type": "markdown",
   "id": "0cdcfd6e",
   "metadata": {},
   "source": [
    "it seems that maximum abalone rings falls between 7 to 15 numbers. Since age = Rings+1.5, maximum abalone'age fall under 7 to 15 age group."
   ]
  },
  {
   "cell_type": "code",
   "execution_count": null,
   "id": "f62a8b2e",
   "metadata": {},
   "outputs": [],
   "source": [
    "#we have one categorical variable. ('Sex')\n",
    "#plotting to check how many categories for 'Sex' variable\n",
    "sns.countplot(df.Sex)"
   ]
  },
  {
   "cell_type": "code",
   "execution_count": null,
   "id": "ad5ff08b",
   "metadata": {},
   "outputs": [],
   "source": [
    "# 0 = Infant\n",
    "# 1 = Male\n",
    "# 2 = female\n",
    "print(df[\"Sex\"].value_counts())"
   ]
  },
  {
   "cell_type": "markdown",
   "id": "454aac09",
   "metadata": {},
   "source": [
    "It is clear that the Data is almost equally distributed in all 3 sex columns"
   ]
  },
  {
   "cell_type": "markdown",
   "id": "cf1b6887",
   "metadata": {},
   "source": [
    "## Let's Check the relation between \"Sex\" and \"Rings\""
   ]
  },
  {
   "cell_type": "code",
   "execution_count": null,
   "id": "a494c337",
   "metadata": {},
   "outputs": [],
   "source": [
    "df.groupby([\"Sex\"])[\"Rings\"].mean().plot(kind=\"bar\")   # 0 = Infant  1 = Male  2 = female"
   ]
  },
  {
   "cell_type": "code",
   "execution_count": null,
   "id": "4d1c58d9",
   "metadata": {},
   "outputs": [],
   "source": [
    "import seaborn as sns\n",
    "sns.boxplot(x='Sex', y='Rings', data=df)    # 0 = Infant  1 = Male  2 = female"
   ]
  },
  {
   "cell_type": "markdown",
   "id": "55b0ae1d",
   "metadata": {},
   "source": [
    "## Correlation"
   ]
  },
  {
   "cell_type": "code",
   "execution_count": null,
   "id": "90043167",
   "metadata": {},
   "outputs": [],
   "source": [
    "df.corr()"
   ]
  },
  {
   "cell_type": "markdown",
   "id": "7ec2b2af",
   "metadata": {},
   "source": [
    "Sex is Negatively Correlated to all the variables"
   ]
  },
  {
   "cell_type": "code",
   "execution_count": null,
   "id": "ea2fb812",
   "metadata": {},
   "outputs": [],
   "source": [
    "sns.heatmap(df.corr(), cmap = \"Blues\", annot = True)"
   ]
  },
  {
   "cell_type": "code",
   "execution_count": null,
   "id": "56d10582",
   "metadata": {},
   "outputs": [],
   "source": [
    "# distribution of the data\n",
    "df.iloc[:,1:-1].hist(figsize=(10,8));"
   ]
  },
  {
   "cell_type": "markdown",
   "id": "2ed52bc8",
   "metadata": {},
   "source": [
    "Let's check the data distribution among all columns"
   ]
  },
  {
   "cell_type": "code",
   "execution_count": null,
   "id": "fed18ff9",
   "metadata": {},
   "outputs": [],
   "source": [
    "df.plot(kind='density',subplots=True, layout=(6,11), sharex=False, legend= False, fontsize=1, figsize=(18,12))\n",
    "plt.show()"
   ]
  },
  {
   "cell_type": "markdown",
   "id": "9309ed28",
   "metadata": {},
   "source": [
    "Splitting the target and independent variables before removing skewness"
   ]
  },
  {
   "cell_type": "code",
   "execution_count": null,
   "id": "4ae5267b",
   "metadata": {},
   "outputs": [],
   "source": [
    "x=df.drop('Rings', axis=1)\n",
    "y=df['Rings']\n",
    "x"
   ]
  },
  {
   "cell_type": "code",
   "execution_count": null,
   "id": "440f7e67",
   "metadata": {},
   "outputs": [],
   "source": [
    "y"
   ]
  },
  {
   "cell_type": "code",
   "execution_count": null,
   "id": "50520a32",
   "metadata": {},
   "outputs": [],
   "source": [
    "# Cheking Skewness\n",
    "x.skew().sort_values(ascending=False)"
   ]
  },
  {
   "cell_type": "markdown",
   "id": "db442190",
   "metadata": {},
   "source": [
    "There seems a skewness in height. so lets remove skewness in height using power_tranform"
   ]
  },
  {
   "cell_type": "code",
   "execution_count": null,
   "id": "cfb1142d",
   "metadata": {},
   "outputs": [],
   "source": [
    "from sklearn.preprocessing import power_transform\n",
    "x_new=power_transform(x)"
   ]
  },
  {
   "cell_type": "code",
   "execution_count": null,
   "id": "6d539035",
   "metadata": {},
   "outputs": [],
   "source": [
    "type(x_new)"
   ]
  },
  {
   "cell_type": "code",
   "execution_count": null,
   "id": "1b6469bb",
   "metadata": {},
   "outputs": [],
   "source": [
    "x.columns"
   ]
  },
  {
   "cell_type": "code",
   "execution_count": null,
   "id": "ae3fee82",
   "metadata": {},
   "outputs": [],
   "source": [
    "x=pd.DataFrame(x_new, columns=x.columns)\n",
    "x"
   ]
  },
  {
   "cell_type": "code",
   "execution_count": null,
   "id": "91ab7828",
   "metadata": {},
   "outputs": [],
   "source": [
    "# Again Cheking Skewness if it has been removed \n",
    "x.skew().sort_values(ascending=False)"
   ]
  },
  {
   "cell_type": "code",
   "execution_count": null,
   "id": "618273d2",
   "metadata": {},
   "outputs": [],
   "source": [
    "sk=x.skew()\n",
    "sk"
   ]
  },
  {
   "cell_type": "code",
   "execution_count": null,
   "id": "4fdcb50e",
   "metadata": {},
   "outputs": [],
   "source": [
    "x.skew()[np.abs(x.skew())<0.25].all()"
   ]
  },
  {
   "cell_type": "markdown",
   "id": "b4785aa9",
   "metadata": {},
   "source": [
    "# Let's Check Outliers"
   ]
  },
  {
   "cell_type": "code",
   "execution_count": null,
   "id": "5dbce414",
   "metadata": {},
   "outputs": [],
   "source": [
    "df.plot(kind='box',subplots=True,layout=(2,5),figsize=(10,10))"
   ]
  },
  {
   "cell_type": "markdown",
   "id": "b7e74ceb",
   "metadata": {},
   "source": [
    "Except for sex every data has a outliers"
   ]
  },
  {
   "cell_type": "markdown",
   "id": "d72659d6",
   "metadata": {},
   "source": [
    "# Removing Outliers"
   ]
  },
  {
   "cell_type": "code",
   "execution_count": null,
   "id": "d6f0d3cd",
   "metadata": {},
   "outputs": [],
   "source": [
    "from scipy.stats import zscore\n",
    "\n",
    "z=np.abs(zscore(df))\n",
    "z"
   ]
  },
  {
   "cell_type": "code",
   "execution_count": null,
   "id": "7a15f903",
   "metadata": {},
   "outputs": [],
   "source": [
    "z.shape"
   ]
  },
  {
   "cell_type": "code",
   "execution_count": null,
   "id": "34686ae2",
   "metadata": {},
   "outputs": [],
   "source": [
    "threshold=3\n",
    "print(np.where(z>3))"
   ]
  },
  {
   "cell_type": "code",
   "execution_count": null,
   "id": "6527c16f",
   "metadata": {},
   "outputs": [],
   "source": [
    "df_new=df[(z<3).all(axis=1)]\n",
    "df_new"
   ]
  },
  {
   "cell_type": "code",
   "execution_count": null,
   "id": "ee96193f",
   "metadata": {},
   "outputs": [],
   "source": [
    "print(df.shape)\n",
    "print(df_new.shape)"
   ]
  },
  {
   "cell_type": "markdown",
   "id": "8cd33ac8",
   "metadata": {},
   "source": [
    "### Separating columns into Features and Target"
   ]
  },
  {
   "cell_type": "code",
   "execution_count": null,
   "id": "ede9da19",
   "metadata": {},
   "outputs": [],
   "source": [
    "x=df_new.iloc[:, :-1]\n",
    "y=df_new.iloc[:,-1]"
   ]
  },
  {
   "cell_type": "code",
   "execution_count": null,
   "id": "72c3b24a",
   "metadata": {},
   "outputs": [],
   "source": [
    "x.shape"
   ]
  },
  {
   "cell_type": "code",
   "execution_count": null,
   "id": "3827a8c5",
   "metadata": {},
   "outputs": [],
   "source": [
    "y.shape"
   ]
  },
  {
   "cell_type": "code",
   "execution_count": null,
   "id": "8e518bd4",
   "metadata": {},
   "outputs": [],
   "source": [
    "from sklearn.preprocessing import StandardScaler\n",
    "scale=StandardScaler()\n",
    "x=scale.fit_transform(x)\n",
    "x"
   ]
  },
  {
   "cell_type": "code",
   "execution_count": null,
   "id": "90868fd0",
   "metadata": {},
   "outputs": [],
   "source": [
    "x_train,x_test,y_train,y_test = train_test_split(x,y,test_size=0.2,random_state=150)"
   ]
  },
  {
   "cell_type": "code",
   "execution_count": null,
   "id": "eb79010b",
   "metadata": {},
   "outputs": [],
   "source": [
    "# seprating data into train and test \n",
    "x_train,x_test,y_train,y_test = train_test_split(x,y, test_size = 0.20, random_state =150)  \n",
    "# getting the shapes\n",
    "print(\"Shape of x_train :\", x_train.shape)\n",
    "print(\"Shape of x_test :\", x_test.shape)\n",
    "print(\"Shape of y_train :\", y_train.shape)\n",
    "print(\"Shape of y_test :\", y_test.shape)"
   ]
  },
  {
   "cell_type": "code",
   "execution_count": null,
   "id": "4148d360",
   "metadata": {},
   "outputs": [],
   "source": [
    "# taking all models in a list\n",
    "models = [LogisticRegression(),KNeighborsClassifier(),DecisionTreeClassifier(),SVR(),RandomForestClassifier(),GaussianNB()]\n",
    "\n",
    "# running loop for differents model\\\n",
    "for model in models:\n",
    "    model.fit(x_train,y_train)\n",
    "    pred = model.predict(x_test)\n",
    "    MSE = mean_squared_error(pred,y_test)\n",
    "    \n",
    "    print(\"Mean_squared_error\",model,MSE)\n",
    "    print(\"RMSE\",model, np.sqrt(MSE) )\n",
    "    print(\"r_score\",model,r2_score(y_test,pred)*100)\n",
    "    print(\"\\n\")"
   ]
  },
  {
   "cell_type": "code",
   "execution_count": null,
   "id": "5d5c2346",
   "metadata": {},
   "outputs": [],
   "source": [
    "from sklearn.model_selection import cross_val_score\n",
    "for model in models:\n",
    "    score=cross_val_score(model,x,y,cv=3)\n",
    "    print('CV score for',model)\n",
    "    print(score)\n",
    "    print(score.mean())\n",
    "    print(score.std())\n",
    "    print('\\n')"
   ]
  },
  {
   "cell_type": "markdown",
   "id": "4f35cc48",
   "metadata": {},
   "source": [
    "# Hyperparameter Tuning"
   ]
  },
  {
   "cell_type": "code",
   "execution_count": null,
   "id": "9b9f8ed2",
   "metadata": {},
   "outputs": [],
   "source": [
    "from sklearn.model_selection import GridSearchCV\n",
    "#Creating parameter list to pass in GridSearchCV\n",
    "\n",
    "# defining parameter range\n",
    "param_grid = {'C': [0.1, 1, 10],\n",
    "              'gamma': [1, 0.1, 0.01, 0.001, 0.0001],\n",
    "              'kernel': ['rbf']}\n",
    " \n",
    "grid = GridSearchCV(SVR(), param_grid, refit = True, verbose = 3)\n",
    " \n",
    "# fitting the model for grid search\n",
    "grid.fit(x_train, y_train)"
   ]
  },
  {
   "cell_type": "code",
   "execution_count": null,
   "id": "b6bd1250",
   "metadata": {},
   "outputs": [],
   "source": [
    "print(\"score\",grid.best_score_)\n",
    "print(\"best parameter\",grid.best_params_)\n",
    "print(\"best estimator\",grid.best_estimator_)\n",
    "grid_pred=grid.best_estimator_.predict(x_test) # predicting with best parameters"
   ]
  },
  {
   "cell_type": "code",
   "execution_count": null,
   "id": "5cdf97fe",
   "metadata": {},
   "outputs": [],
   "source": [
    "#Predict the Rings\n",
    "pred=grid.predict(x_test)\n",
    "print('Predicted number of Rings',pred)\n",
    "print('Actual Number of Rings',y_test)"
   ]
  },
  {
   "cell_type": "code",
   "execution_count": null,
   "id": "723d492d",
   "metadata": {},
   "outputs": [],
   "source": [
    "import numpy as np\n",
    "a=np.array(y_test)\n",
    "Predicted=np.array(pred)\n",
    "df_com=pd.DataFrame({'Original':a,'Predicted':Predicted},index=range(len(a)))\n",
    "df_com"
   ]
  },
  {
   "cell_type": "markdown",
   "id": "ba425de4",
   "metadata": {},
   "source": [
    "## Model Saving"
   ]
  },
  {
   "cell_type": "code",
   "execution_count": null,
   "id": "9cf92deb",
   "metadata": {},
   "outputs": [],
   "source": [
    "import pickle\n",
    "filename='Predicted_Rings_data.pkl'\n",
    "pickle.dump(SVR,open(filename,'wb'))"
   ]
  },
  {
   "cell_type": "code",
   "execution_count": null,
   "id": "41425605",
   "metadata": {},
   "outputs": [],
   "source": []
  }
 ],
 "metadata": {
  "kernelspec": {
   "display_name": "Python 3 (ipykernel)",
   "language": "python",
   "name": "python3"
  },
  "language_info": {
   "codemirror_mode": {
    "name": "ipython",
    "version": 3
   },
   "file_extension": ".py",
   "mimetype": "text/x-python",
   "name": "python",
   "nbconvert_exporter": "python",
   "pygments_lexer": "ipython3",
   "version": "3.9.7"
  }
 },
 "nbformat": 4,
 "nbformat_minor": 5
}
